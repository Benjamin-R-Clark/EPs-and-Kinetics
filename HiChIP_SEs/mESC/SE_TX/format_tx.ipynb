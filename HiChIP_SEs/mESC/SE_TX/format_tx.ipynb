{
 "cells": [
  {
   "cell_type": "code",
   "execution_count": 8,
   "metadata": {
    "collapsed": true,
    "ExecuteTime": {
     "end_time": "2024-04-12T16:32:37.634898646Z",
     "start_time": "2024-04-12T16:32:37.606681171Z"
    }
   },
   "outputs": [],
   "source": [
    "import pandas as pd\n",
    "import numpy as np\n",
    "\n",
    "def getParam(df: pd.DataFrame, index: int, param_col: int):\n",
    "    return np.array([list(df[param_col])[x][index] for x in range(len(df.index))], dtype=float).flatten()\n",
    "\n",
    "def unload_df(df: pd.DataFrame):\n",
    "    return pd.DataFrame(data={\"Kon\": getParam(df, 0, 0), \"Koff\": getParam(df, 1, 0), \"Ksyn\": getParam(df, 2, 0)},\n",
    "                        index=df.index.values)\n",
    "\n",
    "def which(array):\n",
    "    return [x for x in range(len(array)) if array[x]]\n",
    "\n",
    "def whichKeep(est_params):\n",
    "    kon = np.array(est_params)[:,0]\n",
    "    koff = np.array(est_params)[:,1]\n",
    "    ksyn = np.array(est_params)[:,2]\n",
    "    which_kon = ~(kon < 2*1e-3)*~(kon > 1e3 - 1)\n",
    "    which_koff = ~(koff < 2*1e-3)*~(koff > 1e3 - 1)\n",
    "    which_burst = ksyn/koff > 1\n",
    "    which_ksyn = ksyn > 1\n",
    "    which = which_burst*which_koff*which_kon*which_ksyn\n",
    "    return which\n",
    "\n",
    "tx = pd.read_pickle(\"data/SS3_cast_UMIs_mESC_ML.pkl\")\n",
    "filtered_tx = tx.iloc[which(np.array(tx[1]))]"
   ]
  },
  {
   "cell_type": "code",
   "execution_count": 10,
   "outputs": [
    {
     "data": {
      "text/plain": "                    Kon        Koff        Ksyn\n0610007P14Rik  1.042724    6.111233   13.128467\n0610009B22Rik  0.687507    2.933980   15.190917\n0610012G03Rik  0.076152    0.552256   30.163825\n0610031J06Rik  3.536754  211.008333  377.512057\n1110004E09Rik  0.140709    0.661506    8.993836\n...                 ...         ...         ...\nZwilch         1.244701    2.556774    9.688974\nZwint          1.123749    1.806861   11.025819\nZxdc           0.204056    1.290241    5.107471\nZyg11b         0.865140  120.742446  135.907898\nl7Rn6          0.603148    0.431342    8.634208\n\n[5824 rows x 3 columns]",
      "text/html": "<div>\n<style scoped>\n    .dataframe tbody tr th:only-of-type {\n        vertical-align: middle;\n    }\n\n    .dataframe tbody tr th {\n        vertical-align: top;\n    }\n\n    .dataframe thead th {\n        text-align: right;\n    }\n</style>\n<table border=\"1\" class=\"dataframe\">\n  <thead>\n    <tr style=\"text-align: right;\">\n      <th></th>\n      <th>Kon</th>\n      <th>Koff</th>\n      <th>Ksyn</th>\n    </tr>\n  </thead>\n  <tbody>\n    <tr>\n      <th>0610007P14Rik</th>\n      <td>1.042724</td>\n      <td>6.111233</td>\n      <td>13.128467</td>\n    </tr>\n    <tr>\n      <th>0610009B22Rik</th>\n      <td>0.687507</td>\n      <td>2.933980</td>\n      <td>15.190917</td>\n    </tr>\n    <tr>\n      <th>0610012G03Rik</th>\n      <td>0.076152</td>\n      <td>0.552256</td>\n      <td>30.163825</td>\n    </tr>\n    <tr>\n      <th>0610031J06Rik</th>\n      <td>3.536754</td>\n      <td>211.008333</td>\n      <td>377.512057</td>\n    </tr>\n    <tr>\n      <th>1110004E09Rik</th>\n      <td>0.140709</td>\n      <td>0.661506</td>\n      <td>8.993836</td>\n    </tr>\n    <tr>\n      <th>...</th>\n      <td>...</td>\n      <td>...</td>\n      <td>...</td>\n    </tr>\n    <tr>\n      <th>Zwilch</th>\n      <td>1.244701</td>\n      <td>2.556774</td>\n      <td>9.688974</td>\n    </tr>\n    <tr>\n      <th>Zwint</th>\n      <td>1.123749</td>\n      <td>1.806861</td>\n      <td>11.025819</td>\n    </tr>\n    <tr>\n      <th>Zxdc</th>\n      <td>0.204056</td>\n      <td>1.290241</td>\n      <td>5.107471</td>\n    </tr>\n    <tr>\n      <th>Zyg11b</th>\n      <td>0.865140</td>\n      <td>120.742446</td>\n      <td>135.907898</td>\n    </tr>\n    <tr>\n      <th>l7Rn6</th>\n      <td>0.603148</td>\n      <td>0.431342</td>\n      <td>8.634208</td>\n    </tr>\n  </tbody>\n</table>\n<p>5824 rows × 3 columns</p>\n</div>"
     },
     "execution_count": 10,
     "metadata": {},
     "output_type": "execute_result"
    }
   ],
   "source": [
    "tx_df = unload_df(filtered_tx)\n",
    "tx_df"
   ],
   "metadata": {
    "collapsed": false,
    "ExecuteTime": {
     "end_time": "2024-04-12T16:34:29.088006052Z",
     "start_time": "2024-04-12T16:34:25.659133731Z"
    }
   }
  },
  {
   "cell_type": "code",
   "execution_count": 11,
   "outputs": [],
   "source": [
    "tx_df.to_csv(\"data/mESC_tx.csv\")"
   ],
   "metadata": {
    "collapsed": false,
    "ExecuteTime": {
     "end_time": "2024-04-12T16:35:27.276302391Z",
     "start_time": "2024-04-12T16:35:27.234954773Z"
    }
   }
  }
 ],
 "metadata": {
  "kernelspec": {
   "display_name": "Python 3",
   "language": "python",
   "name": "python3"
  },
  "language_info": {
   "codemirror_mode": {
    "name": "ipython",
    "version": 2
   },
   "file_extension": ".py",
   "mimetype": "text/x-python",
   "name": "python",
   "nbconvert_exporter": "python",
   "pygments_lexer": "ipython2",
   "version": "2.7.6"
  }
 },
 "nbformat": 4,
 "nbformat_minor": 0
}
